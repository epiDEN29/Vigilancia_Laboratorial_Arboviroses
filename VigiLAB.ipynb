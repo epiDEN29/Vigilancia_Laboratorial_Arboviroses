{
  "nbformat": 4,
  "nbformat_minor": 0,
  "metadata": {
    "colab": {
      "provenance": [],
      "collapsed_sections": [
        "FMbRlOi07JYS"
      ],
      "authorship_tag": "ABX9TyOQGMbKH/WFT3hzCCUxuLf6",
      "include_colab_link": true
    },
    "kernelspec": {
      "name": "python3",
      "display_name": "Python 3"
    },
    "language_info": {
      "name": "python"
    }
  },
  "cells": [
    {
      "cell_type": "markdown",
      "metadata": {
        "id": "view-in-github",
        "colab_type": "text"
      },
      "source": [
        "<a href=\"https://colab.research.google.com/github/epiDEN29/Vigilancia-Laboratorial/blob/main/VigiLAB.ipynb\" target=\"_parent\"><img src=\"https://colab.research.google.com/assets/colab-badge.svg\" alt=\"Open In Colab\"/></a>"
      ]
    },
    {
      "cell_type": "markdown",
      "source": [
        "## VigiLAB Dengue"
      ],
      "metadata": {
        "id": "39DCz2Gm67aJ"
      }
    },
    {
      "cell_type": "code",
      "execution_count": null,
      "metadata": {
        "id": "MWinLz5d56D0"
      },
      "outputs": [],
      "source": [
        "import pandas as pd\n",
        "from google.colab import drive\n",
        "\n",
        "drive.mount('/content/drive')\n",
        "\n",
        "# ler data frame\n",
        "dados = pd.read_excel('/content/drive/My Drive/Vigilância Laboratorial/data.xlsx')\n",
        "\n",
        "# Função para processar e filtrar os dados para um agravo específico\n",
        "def processar_dados_agravo(dados, agravo):\n",
        "    filtrados = dados.loc[dados['Agravo da Requisição'].str.contains(agravo, case=False, na=False)].copy()\n",
        "\n",
        "    # deletando linhas com resultados vazios\n",
        "    filtrados.drop(filtrados.loc[filtrados['Status Exame'] == 'Aguardando Triagem'].index, inplace=True)\n",
        "    filtrados.drop(filtrados.loc[filtrados['Status Exame'] == 'Disponível para encaminhar'].index, inplace=True)\n",
        "    filtrados.drop(filtrados.loc[filtrados['Status Exame'] == 'Exame Cancelado'].index, inplace=True)\n",
        "    filtrados.drop(filtrados.loc[filtrados['Status Exame'] == 'Exame em Análise'].index, inplace=True)\n",
        "    filtrados.drop(filtrados.loc[filtrados['Status Exame'] == 'Exame não-realizado'].index, inplace=True)\n",
        "    filtrados.drop(filtrados.loc[filtrados['1º Campo Resultado'] == 'Diagnóstico Diferencial: Não'].index, inplace=True)\n",
        "\n",
        "    # retirando espaços das strings de resultados\n",
        "    filtrados['1º Campo Resultado'] = filtrados['1º Campo Resultado'].str.strip()\n",
        "\n",
        "    # Contar os resultados e colocá-los em colunas\n",
        "    contagem_resultados = filtrados.pivot_table(index='Municipio do Solicitante',\n",
        "                                                columns='1º Campo Resultado',\n",
        "                                                values='Requisição',\n",
        "                                                aggfunc='count',\n",
        "                                                fill_value=0)\n",
        "\n",
        "    # somando número de exames concluídos, conforme número de resultados entregues\n",
        "    contagem_resultados['Amostras Enviadas'] = contagem_resultados.sum(axis=1)\n",
        "\n",
        "    # Cria uma nova coluna 'Total Positivas' que é a soma das colunas 'Reagente' e 'Detectável'\n",
        "    contagem_resultados['Total Positivas'] = contagem_resultados.get('Resultado: Reagente', 0) + \\\n",
        "                                             contagem_resultados.get('Dengue: Detectável', 0) + \\\n",
        "                                             contagem_resultados.get('Resultado: Detectável', 0)\n",
        "\n",
        "    # Adiciona uma linha 'Total' que é a soma dos valores de cada coluna individualmente\n",
        "    contagem_resultados.loc['Total'] = contagem_resultados.sum(numeric_only=True)\n",
        "\n",
        "    # Organize as colunas de acordo com o valor total, do maior para o menor\n",
        "    contagem_resultados = contagem_resultados[contagem_resultados.loc['Total'].sort_values(ascending=False).index]\n",
        "\n",
        "    # Define colunas na ordem desejada\n",
        "    ordered_columns = ['Amostras Enviadas',\n",
        "                       'Dengue: Inconclusivo', 'Resultado: Inconclusivo', 'Resultado: Indeterminado',\n",
        "                       'Resultado: Reagente', 'Resultado: Não Reagente',\n",
        "                       'Dengue: Detectável', 'Resultado: Detectável',\n",
        "                       'Dengue: Não Detectável', 'Resultado: Não Detectável',\n",
        "                       'Total Positivas']\n",
        "\n",
        "    contagem_resultados = contagem_resultados.reindex(columns=ordered_columns)\n",
        "\n",
        "    return contagem_resultados\n",
        "\n",
        "# Processando dados para cada agravo\n",
        "df_dengue = processar_dados_agravo(dados, 'DENGUE')\n",
        "df_zika = processar_dados_agravo(dados, 'ZIKA')\n",
        "df_chikungunya = processar_dados_agravo(dados, 'CHIKUNGUNYA')\n",
        "\n",
        "# Salvando os resultados em diferentes sheets no mesmo arquivo Excel\n",
        "output_path = '/content/drive/My Drive/Vigilância Laboratorial/VigiLab_Pará_Arboviroses.xlsx'\n",
        "\n",
        "with pd.ExcelWriter(output_path) as writer:\n",
        "    df_dengue.to_excel(writer, sheet_name='DENGUE')\n",
        "    df_zika.to_excel(writer, sheet_name='ZIKA')\n",
        "    df_chikungunya.to_excel(writer, sheet_name='CHIKUNGUNYA')\n",
        "\n",
        "print(f\"Tabela salva com sucesso!\")\n",
        "print(f\"Desenvolvido por Pedro Araújo\")"
      ]
    },
    {
      "cell_type": "markdown",
      "source": [
        "## VigiLAB Oropouche"
      ],
      "metadata": {
        "id": "FMbRlOi07JYS"
      }
    },
    {
      "cell_type": "code",
      "source": [
        "# Importar bibliotecas\n",
        "import pandas as pd\n",
        "\n",
        "# Ler planilhas\n",
        "data1 = pd.read_excel('C:/Users/020225/OneDrive/TRABALHOS PYTHON/ANALISE_LACEN/OROPOUCHE/data1.xlsx')\n",
        "data2 = pd.read_excel('C:/Users/020225/OneDrive/TRABALHOS PYTHON/ANALISE_LACEN/OROPOUCHE/data2.xlsx')\n",
        "\n",
        "# Concatenar os dados\n",
        "dados = pd.concat([data1, data2], ignore_index=True)\n",
        "\n",
        "# deletando linhas com resultados vazios\n",
        "dados.drop(dados.loc[dados['Resultado'] == ' '].index, inplace=True)\n",
        "\n",
        "# retirando espaços das strings de resultados\n",
        "dados['Resultado'] = dados['Resultado'].str.strip()\n",
        "\n",
        "# contando os resultados e os colocando em colunas\n",
        "contagem_resultados = dados[['Mun. Requisitante',\n",
        "                             'Resultado',\n",
        "                             'Requisição']].groupby(by=['Mun. Requisitante', 'Resultado']).count().unstack(level=1).droplevel(0, axis=1)\n",
        "\n",
        "# somando número de exames concluídos, conforme número de resultados entregues\n",
        "contagem_resultados['Amostras Enviadas'] = contagem_resultados.sum(axis=1)\n",
        "\n",
        "# unindo contagem_resultados e amostras_entregues em apenas um dataframe\n",
        "df = pd.concat([contagem_resultados], axis=1)\n",
        "\n",
        "# Preenche os valores ausentes nas colunas 'Reagente' e 'Detectável' com 0\n",
        "df[['Reagente', 'Detectável']] = df[['Reagente', 'Detectável']].fillna(0)\n",
        "\n",
        "# Cria uma nova coluna 'Soma' que é a soma das colunas 'Reagente' e 'Detectável'\n",
        "df['Total Positivas'] = df['Reagente'] + df['Detectável']\n",
        "\n",
        "# Adiciona uma linha 'Total' que é a soma dos valores de cada coluna individualmente\n",
        "df.loc['Total'] = df.sum(numeric_only=True)\n",
        "\n",
        "# Organize as colunas de acordo com o valor total, do maior para o menor\n",
        "df = df[df.loc['Total'].sort_values(ascending=False).index]\n",
        "\n",
        "# colocando colunas na ordem desejada e gerando arquivo em excel\n",
        "df[['Amostras Enviadas',\n",
        "    'Inconclusivo',\n",
        "    'Indeterminado',\n",
        "    'Reagente',\n",
        "    'Não Reagente',\n",
        "    'Detectável',\n",
        "    'Não Detectável',\n",
        "    'Total Positivas']].to_excel('C:/Users/020225/OneDrive/TRABALHOS PYTHON/ANALISE_LACEN/OROPOUCHE/VigiLab_Pará_Oropouche.xlsx')\n",
        "\n",
        "print(f\"Tabela salva com sucesso!\")\n",
        "print(f\"Desenvolvido por Pedro Araújo\")"
      ],
      "metadata": {
        "id": "kuuL-XbN7OOd"
      },
      "execution_count": null,
      "outputs": []
    }
  ]
}